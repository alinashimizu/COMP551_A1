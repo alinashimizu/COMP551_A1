{
 "cells": [
  {
   "cell_type": "markdown",
   "id": "415e747b-fea3-4a91-8a14-b7de3e1e7ae4",
   "metadata": {},
   "source": [
    "# Data"
   ]
  },
  {
   "cell_type": "code",
   "execution_count": 1,
   "id": "7046d0b0-8eab-4bf7-bc59-cf8769906c77",
   "metadata": {},
   "outputs": [
    {
     "name": "stdout",
     "output_type": "stream",
     "text": [
      "Requirement already satisfied: ucimlrepo in /opt/anaconda3/lib/python3.12/site-packages (0.0.7)\n",
      "Requirement already satisfied: pandas>=1.0.0 in /opt/anaconda3/lib/python3.12/site-packages (from ucimlrepo) (2.2.2)\n",
      "Requirement already satisfied: certifi>=2020.12.5 in /opt/anaconda3/lib/python3.12/site-packages (from ucimlrepo) (2024.8.30)\n",
      "Requirement already satisfied: numpy>=1.26.0 in /opt/anaconda3/lib/python3.12/site-packages (from pandas>=1.0.0->ucimlrepo) (1.26.4)\n",
      "Requirement already satisfied: python-dateutil>=2.8.2 in /opt/anaconda3/lib/python3.12/site-packages (from pandas>=1.0.0->ucimlrepo) (2.9.0.post0)\n",
      "Requirement already satisfied: pytz>=2020.1 in /opt/anaconda3/lib/python3.12/site-packages (from pandas>=1.0.0->ucimlrepo) (2024.1)\n",
      "Requirement already satisfied: tzdata>=2022.7 in /opt/anaconda3/lib/python3.12/site-packages (from pandas>=1.0.0->ucimlrepo) (2023.3)\n",
      "Requirement already satisfied: six>=1.5 in /opt/anaconda3/lib/python3.12/site-packages (from python-dateutil>=2.8.2->pandas>=1.0.0->ucimlrepo) (1.16.0)\n"
     ]
    }
   ],
   "source": [
    "!pip install ucimlrepo"
   ]
  },
  {
   "cell_type": "code",
   "execution_count": 2,
   "id": "6354d058-dc0b-4e71-a872-0ccf625f0ff2",
   "metadata": {
    "scrolled": true
   },
   "outputs": [
    {
     "name": "stdout",
     "output_type": "stream",
     "text": [
      "           culmen_length_mm  culmen_depth_mm  flipper_length_mm  body_mass_g  \\\n",
      "species                                                                        \n",
      "Adelie            38.825144        18.338495         190.025758  3700.662252   \n",
      "Chinstrap         48.833824        18.420588         195.823529  3733.088235   \n",
      "Gentoo            47.475983        14.999606         217.055768  5076.016260   \n",
      "\n",
      "           sex  \n",
      "species         \n",
      "Adelie     1.0  \n",
      "Chinstrap  0.0  \n",
      "Gentoo     1.0  \n",
      "Ranked Features\n",
      "body_mass_g: 3696105.7731082886\n",
      "flipper_length_mm: 1215.043533033442\n",
      "culmen_length_mm: 176.8544064102005\n",
      "culmen_depth_mm: 22.85803270042596\n",
      "sex: 2.0\n"
     ]
    },
    {
     "name": "stderr",
     "output_type": "stream",
     "text": [
      "/var/folders/zv/s9xt0_f507n54r3q6rl1x2bm0000gn/T/ipykernel_11794/2647536996.py:96: DeprecationWarning: DataFrameGroupBy.apply operated on the grouping columns. This behavior is deprecated, and in a future version of pandas the grouping columns will be excluded from the operation. Either pass `include_groups=False` to exclude the groupings or explicitly select the grouping columns after groupby to silence this warning.\n",
      "  grouped_stats = cleaned_penguin_data.groupby('species').apply(penguin_stats)\n"
     ]
    }
   ],
   "source": [
    "import numpy as np\n",
    "import pandas as pd\n",
    "import matplotlib.pyplot as plt\n",
    "from ucimlrepo import fetch_ucirepo\n",
    "\n",
    "#TASK 1 - Acquire, Preprocess and Analyze Data\n",
    "#Dataset 1 heart disease (binary)\n",
    "\n",
    "#fetch dataset\n",
    "heart_disease = fetch_ucirepo(id=45)\n",
    "\n",
    "#data as pd data frame\n",
    "X = heart_disease.data.features\n",
    "y = heart_disease.data.targets\n",
    "\n",
    "\n",
    "#Option 1 - Drop missing values\n",
    "X_clean = X.dropna() # we could also do average here and compare\n",
    "y_clean = y.loc[X_clean.index]\n",
    "#print(X_clean.shape)\n",
    "#print(y_clean.shape)\n",
    "\n",
    "#Option 2 - Fill with average\n",
    "X_clean2 = X.fillna(X.mean())\n",
    "#print(X_clean)\n",
    "y_clean2 = y\n",
    "#y can stay the same because there are no missing target values\n",
    "\n",
    "#duplicate check\n",
    "duplicates = X_clean.duplicated().sum()\n",
    "#print(duplicates)\n",
    "\n",
    "#Compute basic statistics\n",
    "pos_indices = y_clean[y_clean['num'].isin([1, 2, 3, 4])].index\n",
    "#print(pos_indices)\n",
    "X_pos = X_clean.loc[pos_indices]\n",
    "mean_pos = X_pos.mean()\n",
    "#print(f\"Means of features for people with heart disease\\n{mean_pos}\")\n",
    "X_pos.describe()\n",
    "\n",
    "neg_indices = y_clean[y_clean['num'] == 0].index\n",
    "#print(neg_indices)\n",
    "X_neg = X_clean.loc[neg_indices]\n",
    "mean_neg = X_neg.mean()\n",
    "#print(f\"Means of features for people without heart disease\\n{mean_neg}\")\n",
    "#X_neg.describe()\n",
    "\n",
    "#Rank mean squared difference\n",
    "mean_sqd_diff = (mean_pos - mean_neg) ** 2\n",
    "msd_ranked = mean_sqd_diff.sort_values(ascending=False)\n",
    "#print(\"Mean squared differnce of features for people with and without heart disease\")\n",
    "#print(msd_ranked)\n",
    "\n",
    "#***DATASET 2 - Penguin Dataset for Multi-Class***\n",
    "data = pd.read_csv('penguins_size.csv')\n",
    "\n",
    "\n",
    "#Mapping here to change sex into a numerical variable \n",
    "X_penguin = data.drop(columns=['species', 'island'])\n",
    "X_penguin['sex'] = X_penguin['sex'].map({'MALE': 1, 'FEMALE': 0})\n",
    "y_penguin = data['species']\n",
    "\n",
    "\n",
    "#Option 1 - Drop na rows \n",
    "X_penguin_clean = X_penguin.copy().dropna() \n",
    "y_penguin_clean = y_penguin.copy().loc[X_penguin_clean.index]\n",
    "#print(y_penguin_clean.head())\n",
    "#print(X_penguin_clean.head())\n",
    "\n",
    "#Option 2 - Fill NA rows with average \n",
    "X_penguin_clean2 = X_penguin.copy()\n",
    "numeric_columns = ['culmen_length_mm', 'culmen_depth_mm', 'flipper_length_mm']\n",
    "X_penguin_clean2[numeric_columns] = X_penguin_clean2[numeric_columns].fillna(X_penguin_clean2[numeric_columns].mean())\n",
    "#handle sex column differently \n",
    "X_penguin_clean2['sex'] = X_penguin_clean2['sex'].fillna(X_penguin_clean2['sex'].mode().iloc[0])\n",
    "\n",
    "y_penguin_clean2 = y_penguin.copy()\n",
    "#y can stay the same because there are no missing target values\n",
    "\n",
    "#other cleaning processes to be completed: remove duplicates, outliers, invalid values\n",
    "#X_penguin_clean2.boxplot(column=numeric_columns)\n",
    "#plt.show()\n",
    "#this was hard to visualize since the numbers are on very different scales, but could go back and normalize \n",
    "\n",
    "#checked for duplicates, all False and all values valid \n",
    "\n",
    "#Compute means of each feature in each species group: Need to concat back into one df first \n",
    "cleaned_penguin_data = pd.concat([X_penguin_clean2, y_penguin_clean2], axis=1)\n",
    "\n",
    "#helper function for multi-class stats \n",
    "def penguin_stats(group):\n",
    "    stats = group.mean(numeric_only=True) \n",
    "    stats['sex'] = group['sex'].mode()[0] \n",
    "    return stats\n",
    "\n",
    "grouped_stats = cleaned_penguin_data.groupby('species').apply(penguin_stats)\n",
    "\n",
    "print(grouped_stats)\n",
    "\n",
    "#compute all the squared differences \n",
    "squared_differences = {}\n",
    "\n",
    "#sum of squared differences, should also maybe do pairwise differences \n",
    "\n",
    "for col in X_penguin_clean2.columns:\n",
    "    means = grouped_stats[col]\n",
    "    diff_sum = 0\n",
    "    for i in range(len(means)):\n",
    "        for j in range(i + 1, len(means)):\n",
    "            diff_sum += (means.iloc[i] - means.iloc[j]) ** 2 #squared difference between group means\n",
    "    squared_differences[col] = diff_sum\n",
    "\n",
    "rank_features = sorted(squared_differences.items(), key=lambda x: x[1], reverse=True)\n",
    "\n",
    "print(\"Ranked Features\")\n",
    "for feature, score in rank_features:\n",
    "    print(f\"{feature}: {score}\")"
   ]
  },
  {
   "cell_type": "code",
   "execution_count": 3,
   "id": "e7dbb423-0f47-4bb2-8dff-edd6f57234ab",
   "metadata": {},
   "outputs": [],
   "source": [
    "X_clean = X_clean[['thalach', 'chol', 'trestbps', 'age', 'thal']]"
   ]
  },
  {
   "cell_type": "code",
   "execution_count": 4,
   "id": "b026282f-436a-4852-88df-d2ea390f2643",
   "metadata": {},
   "outputs": [
    {
     "data": {
      "text/html": [
       "<div>\n",
       "<style scoped>\n",
       "    .dataframe tbody tr th:only-of-type {\n",
       "        vertical-align: middle;\n",
       "    }\n",
       "\n",
       "    .dataframe tbody tr th {\n",
       "        vertical-align: top;\n",
       "    }\n",
       "\n",
       "    .dataframe thead th {\n",
       "        text-align: right;\n",
       "    }\n",
       "</style>\n",
       "<table border=\"1\" class=\"dataframe\">\n",
       "  <thead>\n",
       "    <tr style=\"text-align: right;\">\n",
       "      <th></th>\n",
       "      <th>thalach</th>\n",
       "      <th>chol</th>\n",
       "      <th>trestbps</th>\n",
       "      <th>age</th>\n",
       "      <th>thal</th>\n",
       "    </tr>\n",
       "  </thead>\n",
       "  <tbody>\n",
       "    <tr>\n",
       "      <th>0</th>\n",
       "      <td>150</td>\n",
       "      <td>233</td>\n",
       "      <td>145</td>\n",
       "      <td>63</td>\n",
       "      <td>6.0</td>\n",
       "    </tr>\n",
       "    <tr>\n",
       "      <th>1</th>\n",
       "      <td>108</td>\n",
       "      <td>286</td>\n",
       "      <td>160</td>\n",
       "      <td>67</td>\n",
       "      <td>3.0</td>\n",
       "    </tr>\n",
       "    <tr>\n",
       "      <th>2</th>\n",
       "      <td>129</td>\n",
       "      <td>229</td>\n",
       "      <td>120</td>\n",
       "      <td>67</td>\n",
       "      <td>7.0</td>\n",
       "    </tr>\n",
       "    <tr>\n",
       "      <th>3</th>\n",
       "      <td>187</td>\n",
       "      <td>250</td>\n",
       "      <td>130</td>\n",
       "      <td>37</td>\n",
       "      <td>3.0</td>\n",
       "    </tr>\n",
       "    <tr>\n",
       "      <th>4</th>\n",
       "      <td>172</td>\n",
       "      <td>204</td>\n",
       "      <td>130</td>\n",
       "      <td>41</td>\n",
       "      <td>3.0</td>\n",
       "    </tr>\n",
       "  </tbody>\n",
       "</table>\n",
       "</div>"
      ],
      "text/plain": [
       "   thalach  chol  trestbps  age  thal\n",
       "0      150   233       145   63   6.0\n",
       "1      108   286       160   67   3.0\n",
       "2      129   229       120   67   7.0\n",
       "3      187   250       130   37   3.0\n",
       "4      172   204       130   41   3.0"
      ]
     },
     "execution_count": 4,
     "metadata": {},
     "output_type": "execute_result"
    }
   ],
   "source": [
    "X_clean.head()"
   ]
  },
  {
   "cell_type": "code",
   "execution_count": 5,
   "id": "0dade7a8-4479-477b-be0e-45147b47d84e",
   "metadata": {},
   "outputs": [],
   "source": [
    "#y_clean.describe()"
   ]
  },
  {
   "cell_type": "markdown",
   "id": "354d339e-5dad-4cb8-9b38-604d41a5f74c",
   "metadata": {},
   "source": [
    "## Init"
   ]
  },
  {
   "cell_type": "code",
   "execution_count": 6,
   "id": "2fb576a2-8dba-4de1-93f5-8a97fcc03a22",
   "metadata": {},
   "outputs": [],
   "source": [
    "import numpy as np\n",
    "#%matplotlib notebook\n",
    "%matplotlib inline\n",
    "import matplotlib.pyplot as plt\n",
    "from IPython.core.debugger import set_trace\n",
    "np.random.seed(1234)"
   ]
  },
  {
   "cell_type": "markdown",
   "id": "ee10d3cb-118e-4681-8b97-a13e52006e25",
   "metadata": {},
   "source": [
    "## Data Structure"
   ]
  },
  {
   "cell_type": "code",
   "execution_count": 7,
   "id": "0062cfb3-f0f5-4ce2-86a4-f090daab5e78",
   "metadata": {},
   "outputs": [],
   "source": [
    "class Node:\n",
    "    def __init__(self, data_indices, parent):\n",
    "        self.data_indices = data_indices                    # Stores the data indices in the region defined by this node\n",
    "        self.left = None                                    # Stores the left child of the node\n",
    "        self.right = None                                   # Stores the right child of the node\n",
    "        self.split_feature = None                           # The feature for the split at this node\n",
    "        self.split_value = None                             # The value of the feature for the split at this node\n",
    "        if parent:\n",
    "            self.depth = parent.depth + 1                   # Obtain the depth of the node by adding one to depth of the parent\n",
    "            self.num_classes = parent.num_classes           # Copies the num_classes from the parent\n",
    "            self.data = parent.data                         # Copies the data from the parent\n",
    "            self.labels = parent.labels                     # Copies the labels from the parent\n",
    "            # Align indices with .loc instead of .iloc\n",
    "            selected_labels = self.labels.loc[data_indices].values.flatten().astype(int)\n",
    "            class_prob = np.bincount(selected_labels, minlength=self.num_classes)  # Count frequency of labels in this node's region\n",
    "            self.class_prob = class_prob / np.sum(class_prob)  # Compute class probabilities\n"
   ]
  },
  {
   "cell_type": "markdown",
   "id": "954c3df8-5038-4c0f-a7c2-33115d6575a9",
   "metadata": {},
   "source": [
    "## Greedy Splitting of Node"
   ]
  },
  {
   "cell_type": "code",
   "execution_count": 8,
   "id": "68fc1c99-b974-4703-acfc-a2005d3eb94c",
   "metadata": {},
   "outputs": [],
   "source": [
    "def greedy_test(node, cost_fn):\n",
    "    # Initialize the best parameter values\n",
    "    best_cost = np.inf\n",
    "    best_feature, best_value = None, None\n",
    "    num_instances, num_features = node.data.shape\n",
    "    \n",
    "    # Iterate over features\n",
    "    for f in range(num_features):\n",
    "        # Get the data for the f-th feature\n",
    "        feature_name = node.data.columns[f]\n",
    "        data_f = node.data.loc[node.data_indices, feature_name]\n",
    "        \n",
    "        # Sort the values for the current feature\n",
    "        data_sorted = data_f.sort_values()\n",
    "        \n",
    "        # Generate test candidates (averages of consecutive sorted values)\n",
    "        test_candidates = (data_sorted.values[1:] + data_sorted.values[:-1]) / 2.0\n",
    "        \n",
    "        # Iterate over test candidates\n",
    "        for test in test_candidates:\n",
    "            # Split the indices using the test value\n",
    "            left_indices = data_f.index[data_f <= test]\n",
    "            right_indices = data_f.index[data_f > test]\n",
    "            \n",
    "            # Skip invalid splits\n",
    "            if len(left_indices) == 0 or len(right_indices) == 0:\n",
    "                continue\n",
    "            \n",
    "            # Compute costs for left and right splits\n",
    "            left_cost = cost_fn(node.labels.loc[left_indices].values)\n",
    "            right_cost = cost_fn(node.labels.loc[right_indices].values)\n",
    "            num_left, num_right = len(left_indices), len(right_indices)\n",
    "            \n",
    "            # Calculate weighted combined cost\n",
    "            cost = (num_left * left_cost + num_right * right_cost) / num_instances\n",
    "            \n",
    "            # Update if a lower cost is found\n",
    "            if cost < best_cost:\n",
    "                best_cost = cost\n",
    "                best_feature = feature_name\n",
    "                best_value = test\n",
    "    \n",
    "    return best_cost, best_feature, best_value\n"
   ]
  },
  {
   "cell_type": "markdown",
   "id": "4cc078b3-382e-4efe-a5a1-342617591c13",
   "metadata": {},
   "source": [
    "## Cost Functions"
   ]
  },
  {
   "cell_type": "code",
   "execution_count": 9,
   "id": "06f2f49a-235f-4062-8b15-d61cd294b60c",
   "metadata": {},
   "outputs": [],
   "source": [
    "# #computes misclassification cost by subtracting the maximum probability of any class\n",
    "# def cost_misclassification(labels):\n",
    "#     counts = np.bincount(labels) \n",
    "#     class_probs = counts / np.sum(counts)\n",
    "#     #you could compress both the steps above by doing class_probs = np.bincount(labels) / len(labels)\n",
    "#     return 1 - np.max(class_probs)\n",
    "\n",
    "def cost_misclassification(labels):\n",
    "    # Ensure labels are a 1D NumPy array of integers\n",
    "    labels = np.asarray(labels).flatten().astype(int)\n",
    "    counts = np.bincount(labels)\n",
    "    class_probs = counts / np.sum(counts)\n",
    "    return 1 - np.max(class_probs)\n",
    "\n",
    "\n",
    "# #computes entropy of the labels by computing the class probabilities\n",
    "# def cost_entropy(labels):\n",
    "#     class_probs = np.bincount(labels) / len(labels)\n",
    "#     class_probs = class_probs[class_probs > 0]              #this steps is remove 0 probabilities for removing numerical issues while computing log\n",
    "#     return -np.sum(class_probs * np.log2(class_probs))       #expression for entropy -\\sigma p(x)log[p(x)]\n",
    "\n",
    "def cost_entropy(labels):\n",
    "    # Ensure labels are a 1D NumPy array of integers\n",
    "    labels = np.asarray(labels).flatten().astype(int)\n",
    "    counts = np.bincount(labels)\n",
    "    class_probs = counts / np.sum(counts)\n",
    "    class_probs = class_probs[class_probs > 0]  # Remove 0 probabilities to avoid log(0)\n",
    "    return -np.sum(class_probs * np.log2(class_probs))  # Expression for entropy: -Σ p(x) log2[p(x)]\n",
    "\n",
    "\n",
    "# #computes the gini index cost\n",
    "# def cost_gini_index(labels):\n",
    "#     class_probs = np.bincount(labels) / len(labels)\n",
    "#     return 1 - np.sum(np.square(class_probs))               #expression for gini index 1-\\sigma p(x)^2\n",
    "\n",
    "def cost_gini_index(labels):\n",
    "    # Ensure labels are a 1D NumPy array of integers\n",
    "    labels = np.asarray(labels).flatten().astype(int)\n",
    "    counts = np.bincount(labels)\n",
    "    class_probs = counts / np.sum(counts)\n",
    "    return 1 - np.sum(np.square(class_probs))  # Expression for Gini index: 1 - Σ p(x)^2\n"
   ]
  },
  {
   "cell_type": "code",
   "execution_count": 10,
   "id": "19db5867-ccd5-4fe5-96d9-222c2821040c",
   "metadata": {},
   "outputs": [
    {
     "data": {
      "text/plain": [
       "<Figure size 640x480 with 0 Axes>"
      ]
     },
     "metadata": {},
     "output_type": "display_data"
    },
    {
     "data": {
      "image/png": "[encoded data removed]",
      "text/plain": [
       "<Figure size 480x360 with 1 Axes>"
      ]
     },
     "metadata": {},
     "output_type": "display_data"
    }
   ],
   "source": [
    "x = np.linspace(0.01, 0.99, 100)\n",
    "f1 = 1 - np.max(np.stack((x, 1-x)),axis=0)\n",
    "f2 = -x * np.log2(x) - (1-x) * np.log2(1-x)\n",
    "f3 = 2 * x * (1 - x)\n",
    "\n",
    "plt.clf()\n",
    "plt.figure(figsize=(4.8, 3.6))\n",
    "plt.plot(x, f1, \"-\", label=\"Misclassification\")\n",
    "plt.plot(x, f2, \"-\", label=\"Entropy\")\n",
    "plt.plot(x, f3, \"--\", label=\"Gini Index\")\n",
    "plt.xlabel(\"$p(y=1)$\")\n",
    "plt.ylabel(\"cost\")\n",
    "plt.legend()\n",
    "plt.show()"
   ]
  },
  {
   "cell_type": "markdown",
   "id": "fd59fe89-b711-47f8-bdc6-163032704132",
   "metadata": {},
   "source": [
    "## Classifier"
   ]
  },
  {
   "cell_type": "code",
   "execution_count": 11,
   "id": "c4b9bd37-e94a-4067-93b2-3db128181cfa",
   "metadata": {},
   "outputs": [],
   "source": [
    "class DecisionTree:\n",
    "    def __init__(self, num_classes=None, max_depth=3, cost_fn=cost_misclassification, min_leaf_instances=1):\n",
    "        self.max_depth = max_depth      #maximum dept for termination \n",
    "        self.root = None                #stores the root of the decision tree \n",
    "        self.cost_fn = cost_fn          #stores the cost function of the decision tree \n",
    "        self.num_classes = num_classes  #stores the total number of classes\n",
    "        self.min_leaf_instances = min_leaf_instances  #minimum number of instances in a leaf for termination\n",
    "        \n",
    "    def fit(self, data, labels):\n",
    "        pass                            #pass in python 3 means nothing happens and the method here is empty\n",
    "    \n",
    "    def predict(self, data_test):\n",
    "        pass"
   ]
  },
  {
   "cell_type": "markdown",
   "id": "9ef6143d-a4bc-4ce4-bf2d-3bed49f9ebce",
   "metadata": {},
   "source": [
    "## Fit"
   ]
  },
  {
   "cell_type": "code",
   "execution_count": 12,
   "id": "5b1eff43-ccb4-45df-a1ae-c23c97ac8426",
   "metadata": {},
   "outputs": [],
   "source": [
    "def fit(self, data, labels):\n",
    "    self.data = data\n",
    "    self.labels = labels\n",
    "    if self.num_classes is None:\n",
    "        self.num_classes = len(np.unique(labels))\n",
    "    # Initialize the root of the decision tree\n",
    "    self.root = Node(data.index, None)  # Use DataFrame index\n",
    "    self.root.data = data\n",
    "    self.root.labels = labels\n",
    "    self.root.num_classes = self.num_classes\n",
    "    self.root.depth = 0\n",
    "    # Recursively build the rest of the tree\n",
    "    self._fit_tree(self.root)\n",
    "    return self\n",
    "\n",
    "def _fit_tree(self, node):\n",
    "    # Termination condition: leaf node\n",
    "    if node.depth == self.max_depth or len(node.data_indices) <= self.min_leaf_instances:\n",
    "        return\n",
    "    # Greedily select the best test by minimizing the cost\n",
    "    cost, split_feature, split_value = greedy_test(node, self.cost_fn)\n",
    "    # If the cost is infinity, terminate\n",
    "    if np.isinf(cost):\n",
    "        return\n",
    "    # Store the split feature and value\n",
    "    node.split_feature = split_feature\n",
    "    node.split_value = split_value\n",
    "    # Get a boolean array indicating which data indices are in the left split\n",
    "    test = node.data.loc[node.data_indices, split_feature] <= split_value\n",
    "    # Define left and right child nodes\n",
    "    left_indices = node.data_indices[test]\n",
    "    right_indices = node.data_indices[~test]\n",
    "    left = Node(left_indices, node)\n",
    "    right = Node(right_indices, node)\n",
    "    # Recursive call to _fit_tree()\n",
    "    self._fit_tree(left)\n",
    "    self._fit_tree(right)\n",
    "    # Assign the left and right child to the current node\n",
    "    node.left = left\n",
    "    node.right = right\n",
    "\n",
    "DecisionTree.fit = fit\n",
    "DecisionTree._fit_tree = _fit_tree\n"
   ]
  },
  {
   "cell_type": "markdown",
   "id": "ddf0c92a-bdf4-46c9-9428-fe8a774f6720",
   "metadata": {},
   "source": [
    "## New Predictions"
   ]
  },
  {
   "cell_type": "code",
   "execution_count": 13,
   "id": "ccdd8b01-09c4-4ca7-ac05-a6c25dd65efb",
   "metadata": {},
   "outputs": [],
   "source": [
    "def predict(self, data_test):\n",
    "    class_probs = np.zeros((data_test.shape[0], self.num_classes))\n",
    "    for n, (_, x) in enumerate(data_test.iterrows()):  # Iterate over rows in the DataFrame\n",
    "        node = self.root\n",
    "        # Traverse the tree to find the appropriate leaf\n",
    "        while node.left:\n",
    "            if x[node.split_feature] <= node.split_value:\n",
    "                node = node.left\n",
    "            else:\n",
    "                node = node.right\n",
    "        # Assign the class probabilities from the leaf node\n",
    "        class_probs[n, :] = node.class_prob\n",
    "    return class_probs\n",
    "\n",
    "DecisionTree.predict = predict\n"
   ]
  },
  {
   "cell_type": "markdown",
   "id": "f58cdad4-c3a2-401e-a6d7-cb0568c02ed4",
   "metadata": {},
   "source": [
    "# Experiments"
   ]
  },
  {
   "cell_type": "markdown",
   "id": "bf242051-3c3d-4d72-972d-8231df77b308",
   "metadata": {},
   "source": [
    "## Heart Disease"
   ]
  },
  {
   "cell_type": "code",
   "execution_count": 14,
   "id": "4b6e5a34-4d7d-4384-a98d-4bf482c3a5b0",
   "metadata": {},
   "outputs": [],
   "source": [
    "y_clean = y_clean.replace({1: 1, 2: 1, 3: 1, 4: 1})"
   ]
  },
  {
   "cell_type": "code",
   "execution_count": 15,
   "id": "968805eb-b7ca-4868-8665-ccdf10500c47",
   "metadata": {},
   "outputs": [
    {
     "data": {
      "text/html": [
       "<div>\n",
       "<style scoped>\n",
       "    .dataframe tbody tr th:only-of-type {\n",
       "        vertical-align: middle;\n",
       "    }\n",
       "\n",
       "    .dataframe tbody tr th {\n",
       "        vertical-align: top;\n",
       "    }\n",
       "\n",
       "    .dataframe thead th {\n",
       "        text-align: right;\n",
       "    }\n",
       "</style>\n",
       "<table border=\"1\" class=\"dataframe\">\n",
       "  <thead>\n",
       "    <tr style=\"text-align: right;\">\n",
       "      <th></th>\n",
       "      <th>num</th>\n",
       "    </tr>\n",
       "  </thead>\n",
       "  <tbody>\n",
       "    <tr>\n",
       "      <th>0</th>\n",
       "      <td>0</td>\n",
       "    </tr>\n",
       "    <tr>\n",
       "      <th>1</th>\n",
       "      <td>1</td>\n",
       "    </tr>\n",
       "    <tr>\n",
       "      <th>2</th>\n",
       "      <td>1</td>\n",
       "    </tr>\n",
       "    <tr>\n",
       "      <th>3</th>\n",
       "      <td>0</td>\n",
       "    </tr>\n",
       "    <tr>\n",
       "      <th>4</th>\n",
       "      <td>0</td>\n",
       "    </tr>\n",
       "  </tbody>\n",
       "</table>\n",
       "</div>"
      ],
      "text/plain": [
       "   num\n",
       "0    0\n",
       "1    1\n",
       "2    1\n",
       "3    0\n",
       "4    0"
      ]
     },
     "execution_count": 15,
     "metadata": {},
     "output_type": "execute_result"
    }
   ],
   "source": [
    "y_clean.head()"
   ]
  },
  {
   "cell_type": "code",
   "execution_count": 16,
   "id": "1cec32d9-ee0d-4b27-af99-859be20728d9",
   "metadata": {},
   "outputs": [],
   "source": [
    "\n",
    "x = X_clean  \n",
    "y = y_clean\n",
    "\n",
    "\n",
    "# Dataset characteristics\n",
    "num_instances, num_features = x.shape\n",
    "num_classes = y.nunique()  # Number of unique classes\n",
    "\n",
    "# Randomization\n",
    "inds = np.random.permutation(num_instances)\n",
    "\n",
    "# Train-Test Split\n",
    "x_train, y_train = x.iloc[inds[:100]], y.iloc[inds[:100]]\n",
    "x_test, y_test = x.iloc[inds[100:]], y.iloc[inds[100:]]\n"
   ]
  },
  {
   "cell_type": "code",
   "execution_count": 17,
   "id": "9185c651-190e-4502-844a-660f8632a8c7",
   "metadata": {},
   "outputs": [
    {
     "name": "stdout",
     "output_type": "stream",
     "text": [
      "num\n",
      "0      160\n",
      "1      137\n",
      "Name: count, dtype: int64\n"
     ]
    }
   ],
   "source": [
    "print(y.value_counts())"
   ]
  },
  {
   "cell_type": "code",
   "execution_count": 18,
   "id": "fa203f59-5251-4b59-b9e8-30b6553f8785",
   "metadata": {},
   "outputs": [
    {
     "name": "stdout",
     "output_type": "stream",
     "text": [
      "Accuracy is 63.96%\n"
     ]
    }
   ],
   "source": [
    "# Train the Decision Tree\n",
    "tree = DecisionTree(max_depth=20, cost_fn = cost_gini_index)\n",
    "probs_test = tree.fit(x_train, y_train).predict(x_test)\n",
    "\n",
    "# Make predictions\n",
    "y_pred = np.argmax(probs_test, axis=1)\n",
    "\n",
    "\n",
    "# Convert y_train and y_test to 1D arrays\n",
    "y_train_1d = y_train.squeeze()  # Convert to Series if it's a single-column DataFrame\n",
    "y_train_1d = y_train_1d.to_numpy() if isinstance(y_train_1d, pd.Series) else y_train_1d\n",
    "\n",
    "y_test_1d = y_test.squeeze()  # Convert to Series if it's a single-column DataFrame\n",
    "y_test_1d = y_test_1d.to_numpy() if isinstance(y_test_1d, pd.Series) else y_test_1d\n",
    "\n",
    "# # Compute correct and incorrect predictions\n",
    "# correct = y_test_1d == y_pred\n",
    "# incorrect = ~correct\n",
    "\n",
    "\n",
    "accuracy = np.sum(y_pred == y_test_1d) / y_test_1d.shape[0]\n",
    "print(f'Accuracy is {accuracy * 100:.2f}%')\n",
    "\n",
    "# # Visualization\n",
    "# plt.scatter(x_train.iloc[:, 0], x_train.iloc[:, 1], c=y_train_1d, marker='o', alpha=0.2, label='train')\n",
    "# plt.scatter(\n",
    "#     x_test.iloc[correct, 0],\n",
    "#     x_test.iloc[correct, 1],\n",
    "#     marker='.',\n",
    "#     c=y_pred[correct],\n",
    "#     label='correct'\n",
    "# )\n",
    "# plt.scatter(\n",
    "#     x_test.iloc[incorrect, 0],\n",
    "#     x_test.iloc[incorrect, 1],\n",
    "#     marker='x',\n",
    "#     c=y_test_1d[incorrect],\n",
    "#     label='misclassified'\n",
    "# )\n",
    "# plt.legend()\n",
    "# plt.show()\n",
    "\n"
   ]
  },
  {
   "cell_type": "code",
   "execution_count": 19,
   "id": "2b6f3b84-d925-485a-87aa-e333ba2830ab",
   "metadata": {},
   "outputs": [
    {
     "name": "stdout",
     "output_type": "stream",
     "text": [
      "Best depth = 3, test accuracy = 0.80\n"
     ]
    },
    {
     "data": {
      "image/png": "[encoded data removed]",
      "text/plain": [
       "<Figure size 640x480 with 1 Axes>"
      ]
     },
     "metadata": {},
     "output_type": "display_data"
    }
   ],
   "source": [
    "# Further split the training data into 50% training and 50% validation\n",
    "X_train_tr = x_train.iloc[:50]\n",
    "y_train_tr = y_train.iloc[:50]\n",
    "X_train_va = x_train.iloc[50:]\n",
    "y_train_va = y_train.iloc[50:]\n",
    "\n",
    "model_choices = []\n",
    "train_acc = []\n",
    "valid_acc = []\n",
    "\n",
    "n_train = y_train_tr.shape[0]\n",
    "n_valid = y_train_va.shape[0]\n",
    "\n",
    "for k in range(1, 11):\n",
    "    # Create a DecisionTree object with depth k\n",
    "    dt = DecisionTree(max_depth=k)\n",
    "\n",
    "    # Train on training subset and calculate training accuracy\n",
    "    y_train_tr_prob = dt.fit(X_train_tr, y_train_tr).predict(X_train_tr)\n",
    "    y_train_tr_pred = np.argmax(y_train_tr_prob, axis=-1)\n",
    "    acc_tr = np.sum(y_train_tr_pred == y_train_tr.squeeze().to_numpy()) / n_train\n",
    "\n",
    "    # Validate on validation subset and calculate validation accuracy\n",
    "    y_train_va_prob = dt.fit(X_train_tr, y_train_tr).predict(X_train_va)\n",
    "    y_train_va_pred = np.argmax(y_train_va_prob, axis=-1)\n",
    "    acc_va = np.sum(y_train_va_pred == y_train_va.squeeze().to_numpy()) / n_valid\n",
    "\n",
    "    # Store results\n",
    "    model_choices.append(k)\n",
    "    train_acc.append(acc_tr)\n",
    "    valid_acc.append(acc_va)\n",
    "\n",
    "# Use the best depth to predict test data\n",
    "best_depth = model_choices[valid_acc.index(max(valid_acc))]\n",
    "dt = DecisionTree(max_depth=best_depth)\n",
    "\n",
    "# Train on full training set and predict on test set\n",
    "y_test_prob = dt.fit(x_train, y_train).predict(x_test)\n",
    "y_test_pred = np.argmax(y_test_prob, axis=-1)\n",
    "test_accuracy = np.sum(y_test_pred == y_test.squeeze().to_numpy()) / y_test.shape[0]\n",
    "\n",
    "print(f'Best depth = {best_depth}, test accuracy = {test_accuracy:.2f}')\n",
    "\n",
    "# Plot training, validation, and test accuracies\n",
    "plt.plot(model_choices, train_acc, marker='d', color='black', label='training')\n",
    "plt.plot(model_choices, valid_acc, marker='o', color='blue', label='validation')\n",
    "plt.scatter(best_depth, test_accuracy, marker='*', color='red', label='testing')\n",
    "plt.xlabel(\"Tree Depth\")\n",
    "plt.ylabel(\"Accuracy\")\n",
    "plt.legend(loc='best')\n",
    "\n",
    "plt.show()\n"
   ]
  },
  {
   "cell_type": "code",
   "execution_count": 20,
   "id": "d1a846a5-6286-49cb-8e4a-c416f918958a",
   "metadata": {
    "scrolled": true
   },
   "outputs": [
    {
     "name": "stdout",
     "output_type": "stream",
     "text": [
      "Accuracy is 80.20%\n"
     ]
    }
   ],
   "source": [
    "# Train the Decision Tree\n",
    "tree = DecisionTree(max_depth=3)\n",
    "probs_test = tree.fit(x_train, y_train).predict(x_test)\n",
    "\n",
    "# Make predictions\n",
    "y_pred = np.argmax(probs_test, axis=1)\n",
    "\n",
    "\n",
    "# Convert y_train and y_test to 1D arrays\n",
    "y_train_1d = y_train.squeeze()  # Convert to Series if it's a single-column DataFrame\n",
    "y_train_1d = y_train_1d.to_numpy() if isinstance(y_train_1d, pd.Series) else y_train_1d\n",
    "\n",
    "y_test_1d = y_test.squeeze()  # Convert to Series if it's a single-column DataFrame\n",
    "y_test_1d = y_test_1d.to_numpy() if isinstance(y_test_1d, pd.Series) else y_test_1d\n",
    "\n",
    "# # Compute correct and incorrect predictions\n",
    "# correct = y_test_1d == y_pred\n",
    "# incorrect = ~correct\n",
    "\n",
    "\n",
    "accuracy = np.sum(y_pred == y_test_1d) / y_test_1d.shape[0]\n",
    "print(f'Accuracy is {accuracy * 100:.2f}%')\n",
    "\n",
    "# # Visualization\n",
    "# plt.scatter(x_train.iloc[:, 0], x_train.iloc[:, 1], c=y_train_1d, marker='o', alpha=0.2, label='train')\n",
    "# plt.scatter(\n",
    "#     x_test.iloc[correct, 0],\n",
    "#     x_test.iloc[correct, 1],\n",
    "#     marker='.',\n",
    "#     c=y_pred[correct],\n",
    "#     label='correct'\n",
    "# )\n",
    "# plt.scatter(\n",
    "#     x_test.iloc[incorrect, 0],\n",
    "#     x_test.iloc[incorrect, 1],\n",
    "#     marker='x',\n",
    "#     c=y_test_1d[incorrect],\n",
    "#     label='misclassified'\n",
    "# )\n",
    "# plt.legend()\n",
    "# plt.show()"
   ]
  },
  {
   "cell_type": "markdown",
   "id": "bed28cc9-0edc-48a7-9055-07e62a46f680",
   "metadata": {},
   "source": [
    "## Penguins"
   ]
  },
  {
   "cell_type": "code",
   "execution_count": 21,
   "id": "a130af17-72cb-4817-90e3-20e35252d125",
   "metadata": {},
   "outputs": [],
   "source": [
    "x = X_penguin_clean\n",
    "y = y_penguin_clean"
   ]
  },
  {
   "cell_type": "code",
   "execution_count": 22,
   "id": "6c055043-7672-45b7-af2d-ef97558a31d0",
   "metadata": {},
   "outputs": [
    {
     "name": "stdout",
     "output_type": "stream",
     "text": [
      "Accuracy is 94.85%\n"
     ]
    }
   ],
   "source": [
    "# # Encode labels as integers\n",
    "label_mapping = {label: idx for idx, label in enumerate(y.unique())}\n",
    "y_encoded = y.map(label_mapping)\n",
    "\n",
    "# Dataset characteristics\n",
    "num_instances, num_features = x.shape\n",
    "num_classes = y_encoded.nunique()  # Number of unique classes\n",
    "\n",
    "# Randomization\n",
    "inds = np.random.permutation(num_instances)\n",
    "\n",
    "# Train-Test Split\n",
    "x_train, y_train = x.iloc[inds[:100]], y_encoded.iloc[inds[:100]]\n",
    "x_test, y_test = x.iloc[inds[100:]], y_encoded.iloc[inds[100:]]\n",
    "\n",
    "# Train the Decision Tree\n",
    "tree = DecisionTree(max_depth=20)\n",
    "probs_test = tree.fit(x_train, y_train).predict(x_test)\n",
    "\n",
    "# Make predictions\n",
    "y_pred = np.argmax(probs_test, axis=1)\n",
    "\n",
    "# Convert y_train and y_test to 1D arrays\n",
    "y_train_1d = y_train.squeeze().to_numpy()\n",
    "y_test_1d = y_test.squeeze().to_numpy()\n",
    "\n",
    "# Compute correct and incorrect predictions\n",
    "# correct = y_test_1d == y_pred\n",
    "# incorrect = ~correct\n",
    "\n",
    "# Compute accuracy\n",
    "accuracy = np.sum(y_pred == y_test_1d) / y_test_1d.shape[0]\n",
    "print(f'Accuracy is {accuracy * 100:.2f}%')\n",
    "\n",
    "# # Visualization\n",
    "# plt.scatter(x_train.iloc[:, 0], x_train.iloc[:, 1], c=y_train_1d, marker='o', alpha=0.2, label='train')\n",
    "# plt.scatter(\n",
    "#     x_test.iloc[correct, 0],\n",
    "#     x_test.iloc[correct, 1],\n",
    "#     marker='.',\n",
    "#     c=y_pred[correct],\n",
    "#     label='correct'\n",
    "# )\n",
    "# plt.scatter(\n",
    "#     x_test.iloc[incorrect, 0],\n",
    "#     x_test.iloc[incorrect, 1],\n",
    "#     marker='x',\n",
    "#     c=y_test_1d[incorrect],\n",
    "#     label='misclassified'\n",
    "# )\n",
    "# plt.legend()\n",
    "# plt.show()\n"
   ]
  },
  {
   "cell_type": "code",
   "execution_count": 23,
   "id": "4c11b9e1-74a1-4897-a27f-0512978f4e9f",
   "metadata": {},
   "outputs": [
    {
     "name": "stdout",
     "output_type": "stream",
     "text": [
      "Best depth = 2, test accuracy = 0.96\n"
     ]
    },
    {
     "data": {
      "image/png": "[encoded data removed]",
      "text/plain": [
       "<Figure size 640x480 with 1 Axes>"
      ]
     },
     "metadata": {},
     "output_type": "display_data"
    }
   ],
   "source": [
    "# Further split the training data into 50% training and 50% validation\n",
    "X_train_tr = x_train.iloc[:50]\n",
    "y_train_tr = y_train.iloc[:50]\n",
    "X_train_va = x_train.iloc[50:]\n",
    "y_train_va = y_train.iloc[50:]\n",
    "\n",
    "model_choices = []\n",
    "train_acc = []\n",
    "valid_acc = []\n",
    "\n",
    "n_train = y_train_tr.shape[0]\n",
    "n_valid = y_train_va.shape[0]\n",
    "\n",
    "for k in range(1, 11):\n",
    "    # Create a DecisionTree object with depth k\n",
    "    dt = DecisionTree(max_depth=k)\n",
    "\n",
    "    # Train on training subset and calculate training accuracy\n",
    "    y_train_tr_prob = dt.fit(X_train_tr, y_train_tr).predict(X_train_tr)\n",
    "    y_train_tr_pred = np.argmax(y_train_tr_prob, axis=-1)\n",
    "    acc_tr = np.sum(y_train_tr_pred == y_train_tr.squeeze().to_numpy()) / n_train\n",
    "\n",
    "    # Validate on validation subset and calculate validation accuracy\n",
    "    y_train_va_prob = dt.fit(X_train_tr, y_train_tr).predict(X_train_va)\n",
    "    y_train_va_pred = np.argmax(y_train_va_prob, axis=-1)\n",
    "    acc_va = np.sum(y_train_va_pred == y_train_va.squeeze().to_numpy()) / n_valid\n",
    "\n",
    "    # Store results\n",
    "    model_choices.append(k)\n",
    "    train_acc.append(acc_tr)\n",
    "    valid_acc.append(acc_va)\n",
    "\n",
    "# Use the best depth to predict test data\n",
    "best_depth = model_choices[valid_acc.index(max(valid_acc))]\n",
    "dt = DecisionTree(max_depth=best_depth)\n",
    "\n",
    "# Train on full training set and predict on test set\n",
    "y_test_prob = dt.fit(x_train, y_train).predict(x_test)\n",
    "y_test_pred = np.argmax(y_test_prob, axis=-1)\n",
    "test_accuracy = np.sum(y_test_pred == y_test.squeeze().to_numpy()) / y_test.shape[0]\n",
    "\n",
    "print(f'Best depth = {best_depth}, test accuracy = {test_accuracy:.2f}')\n",
    "\n",
    "# Plot training, validation, and test accuracies\n",
    "plt.plot(model_choices, train_acc, marker='d', color='black', label='training')\n",
    "plt.plot(model_choices, valid_acc, marker='o', color='blue', label='validation')\n",
    "plt.scatter(best_depth, test_accuracy, marker='*', color='red', label='testing')\n",
    "plt.xlabel(\"Tree Depth\")\n",
    "plt.ylabel(\"Accuracy\")\n",
    "plt.legend(loc='best')\n",
    "\n",
    "plt.show()"
   ]
  },
  {
   "cell_type": "code",
   "execution_count": null,
   "id": "d7baea3a-0971-42fd-8aeb-bb691827fca4",
   "metadata": {},
   "outputs": [],
   "source": []
  }
 ],
 "metadata": {
  "kernelspec": {
   "display_name": "Python 3 (ipykernel)",
   "language": "python",
   "name": "python3"
  },
  "language_info": {
   "codemirror_mode": {
    "name": "ipython",
    "version": 3
   },
   "file_extension": ".py",
   "mimetype": "text/x-python",
   "name": "python",
   "nbconvert_exporter": "python",
   "pygments_lexer": "ipython3",
   "version": "3.12.7"
  }
 },
 "nbformat": 4,
 "nbformat_minor": 5
}
